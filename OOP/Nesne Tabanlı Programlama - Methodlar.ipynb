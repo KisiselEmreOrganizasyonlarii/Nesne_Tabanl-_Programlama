{
 "cells": [
  {
   "cell_type": "markdown",
   "metadata": {},
   "source": [
    "# Nesne Tabanlı Programlama - Methodlar"
   ]
  },
  {
   "cell_type": "markdown",
   "metadata": {},
   "source": [
    "Bu konuda bir sınıf içerisinde methodlarımızı nasıl tanımlayacağımızı öğrenmeye çalışcağız. Bunun için ilk olarak bir Yazılımcı Sınıfı tanımlayalım."
   ]
  },
  {
   "cell_type": "code",
   "execution_count": 1,
   "metadata": {},
   "outputs": [],
   "source": [
    "class Yazılımcı():\n",
    "    def __init__(self,isim,soyisim,numara,maaş,diller):\n",
    "        self.isim = isim \n",
    "        self.soyisim = soyisim\n",
    "        self.numara = numara     # Yazılımcı objelerinin özellikleri\n",
    "        self.maaş = maaş\n",
    "        self.diller = diller"
   ]
  },
  {
   "cell_type": "code",
   "execution_count": 2,
   "metadata": {},
   "outputs": [],
   "source": [
    "# yazılımci1 objesi\n",
    "yazilimci1 = Yazılımcı('Yunus Emre','Kayiş', 12345, 30000, ['Python','Java'])\n",
    "\n"
   ]
  },
  {
   "cell_type": "code",
   "execution_count": 3,
   "metadata": {},
   "outputs": [],
   "source": [
    "yazilimci2 = Yazılımcı('Mert','Bozkurt', 23456, 35000, ['Matlab', 'R', 'C'])"
   ]
  },
  {
   "cell_type": "code",
   "execution_count": 5,
   "metadata": {},
   "outputs": [
    {
     "data": {
      "text/plain": [
       "['Python', 'Java']"
      ]
     },
     "execution_count": 5,
     "metadata": {},
     "output_type": "execute_result"
    }
   ],
   "source": [
    "yazilimci1.diller"
   ]
  },
  {
   "cell_type": "code",
   "execution_count": 6,
   "metadata": {},
   "outputs": [
    {
     "data": {
      "text/plain": [
       "'Bozkurt'"
      ]
     },
     "execution_count": 6,
     "metadata": {},
     "output_type": "execute_result"
    }
   ],
   "source": [
    "yazilimci2.soyisim"
   ]
  },
  {
   "cell_type": "markdown",
   "metadata": {},
   "source": [
    "Önceki konuda bunların nasıl yapıldığını biliyoruz. Peki bu class'a methodlarımızı nasıl tanımlayabiliriz. Aynı __init__ methodunu tanımladığımız gibi bir class'a istediğimiz kadar method tanımlayabiliriz. Örneğin Yazılımcı classına **bilgileriGöster** isimli bir method tanımlayalım."
   ]
  },
  {
   "cell_type": "code",
   "execution_count": 10,
   "metadata": {},
   "outputs": [],
   "source": [
    "class Yazılımcı():\n",
    "    def __init__(self,isim,soyisim,numara,maaş,diller):\n",
    "        self.isim = isim \n",
    "        self.soyisim = soyisim\n",
    "        self.numara = numara     # Yazılımcı objelerinin özellikleri\n",
    "        self.maaş = maaş\n",
    "        self.diller = diller\n",
    "    \n",
    "    def bilgileriGoster(self):\n",
    "        print(f\"\"\"\"\n",
    "            Çalışan Bilgisi:\n",
    "\n",
    "            İsim: {self.isim}\n",
    "\n",
    "            Soyisim: {self.soyisim}\n",
    "\n",
    "            Şirket Numarası: {self.numara}\n",
    "\n",
    "            Maaş: {self.maaş}\n",
    "\n",
    "            Diller: {self.diller}\n",
    "              \"\"\")"
   ]
  },
  {
   "cell_type": "code",
   "execution_count": 11,
   "metadata": {},
   "outputs": [],
   "source": [
    "yazılımcı1 = Yazılımcı('Burak','Oyuncu',12345,30000,['Python','Css','HTML'])"
   ]
  },
  {
   "cell_type": "code",
   "execution_count": 14,
   "metadata": {},
   "outputs": [
    {
     "name": "stdout",
     "output_type": "stream",
     "text": [
      "\"\n",
      "            Çalışan Bilgisi:\n",
      "\n",
      "            İsim: Burak\n",
      "\n",
      "            Soyisim: Oyuncu\n",
      "\n",
      "            Şirket Numarası: 12345\n",
      "\n",
      "            Maaş: 30000\n",
      "\n",
      "            Diller: ['Python', 'Css', 'HTML']\n",
      "              \n"
     ]
    }
   ],
   "source": [
    "yazılımcı1.bilgileriGoster()"
   ]
  },
  {
   "cell_type": "markdown",
   "metadata": {},
   "source": [
    "Burada bilgileriGöster isimli method tanımlayarak her bir özelliğimizin değerini ekrana derli toplu bir şekilde yazdırmış olduk. MEthodlarımızı yazarken dikkat etmemiz gereken nokta her methodun birinci parametresi **self** referansı olması gerektiğidir. Ayrıca objeşerimizin özelliklerine mutlaka self referansıyla erişmemiz gerekiyor. İsterseniz bu class'a 2 method daha ekleyelim"
   ]
  },
  {
   "cell_type": "code",
   "execution_count": 18,
   "metadata": {},
   "outputs": [],
   "source": [
    "class Yazılımcı():\n",
    "    def __init__(self,isim,soyisim,numara,maaş,diller:list):\n",
    "        self.isim = isim \n",
    "        self.soyisim = soyisim\n",
    "        self.numara = numara     # Yazılımcı objelerinin özellikleri\n",
    "        self.maaş = maaş\n",
    "        self.diller = diller\n",
    "    \n",
    "    def bilgileriGoster(self):\n",
    "        print(f\"\"\"\"\n",
    "            Çalışan Bilgisi:\n",
    "\n",
    "            İsim: {self.isim}\n",
    "\n",
    "            Soyisim: {self.soyisim}\n",
    "\n",
    "            Şirket Numarası: {self.numara}\n",
    "\n",
    "            Maaş: {self.maaş}\n",
    "\n",
    "            Diller: {self.diller}\n",
    "              \"\"\")\n",
    "        \n",
    "    def dil_ekle(self, yeni_dil):\n",
    "        print('Dil Ekleniyor')\n",
    "        self.diller.append(yeni_dil)\n",
    "    \n",
    "    def maas_yukselt(self,zam_miktarı):\n",
    "        print('Maaş Yükseltiliyor')\n",
    "        self.maaş += zam_miktarı"
   ]
  },
  {
   "cell_type": "code",
   "execution_count": 16,
   "metadata": {},
   "outputs": [],
   "source": [
    "yazilimci1 = Yazılımcı('Zeynep','Doğan',12345,30000,['Python','Java','C+'])"
   ]
  },
  {
   "cell_type": "code",
   "execution_count": 17,
   "metadata": {},
   "outputs": [
    {
     "name": "stdout",
     "output_type": "stream",
     "text": [
      "\"\n",
      "            Çalışan Bilgisi:\n",
      "\n",
      "            İsim: Zeynep\n",
      "\n",
      "            Soyisim: Doğan\n",
      "\n",
      "            Şirket Numarası: 12345\n",
      "\n",
      "            Maaş: 30000\n",
      "\n",
      "            Diller: ['Python', 'Java', 'C+']\n",
      "              \n"
     ]
    }
   ],
   "source": [
    "yazilimci1.bilgileriGoster()"
   ]
  },
  {
   "cell_type": "markdown",
   "metadata": {},
   "source": []
  },
  {
   "cell_type": "code",
   "execution_count": 19,
   "metadata": {},
   "outputs": [
    {
     "name": "stdout",
     "output_type": "stream",
     "text": [
      "Maaş Yükseltiliyor\n"
     ]
    }
   ],
   "source": [
    "yazilimci1.maas_yukselt(5000)"
   ]
  },
  {
   "cell_type": "code",
   "execution_count": 20,
   "metadata": {},
   "outputs": [
    {
     "name": "stdout",
     "output_type": "stream",
     "text": [
      "\"\n",
      "            Çalışan Bilgisi:\n",
      "\n",
      "            İsim: Zeynep\n",
      "\n",
      "            Soyisim: Doğan\n",
      "\n",
      "            Şirket Numarası: 12345\n",
      "\n",
      "            Maaş: 35000\n",
      "\n",
      "            Diller: ['Python', 'Java', 'C+']\n",
      "              \n"
     ]
    }
   ],
   "source": [
    "yazilimci1.bilgileriGoster()"
   ]
  },
  {
   "cell_type": "code",
   "execution_count": 21,
   "metadata": {},
   "outputs": [
    {
     "name": "stdout",
     "output_type": "stream",
     "text": [
      "Dil Ekleniyor\n"
     ]
    }
   ],
   "source": [
    "yazilimci1.dil_ekle('Java Script')"
   ]
  },
  {
   "cell_type": "code",
   "execution_count": 22,
   "metadata": {},
   "outputs": [
    {
     "name": "stdout",
     "output_type": "stream",
     "text": [
      "\"\n",
      "            Çalışan Bilgisi:\n",
      "\n",
      "            İsim: Zeynep\n",
      "\n",
      "            Soyisim: Doğan\n",
      "\n",
      "            Şirket Numarası: 12345\n",
      "\n",
      "            Maaş: 35000\n",
      "\n",
      "            Diller: ['Python', 'Java', 'C+', 'Java Script']\n",
      "              \n"
     ]
    }
   ],
   "source": [
    "yazilimci1.bilgileriGoster()"
   ]
  },
  {
   "cell_type": "markdown",
   "metadata": {},
   "source": [
    "İşte Bu kadar. Şimdi inheritance yani miras alma mantığına bakacağız."
   ]
  },
  {
   "cell_type": "code",
   "execution_count": null,
   "metadata": {},
   "outputs": [],
   "source": []
  }
 ],
 "metadata": {
  "kernelspec": {
   "display_name": "sanal_ortam",
   "language": "python",
   "name": "python3"
  },
  "language_info": {
   "codemirror_mode": {
    "name": "ipython",
    "version": 3
   },
   "file_extension": ".py",
   "mimetype": "text/x-python",
   "name": "python",
   "nbconvert_exporter": "python",
   "pygments_lexer": "ipython3",
   "version": "3.12.1"
  }
 },
 "nbformat": 4,
 "nbformat_minor": 2
}
